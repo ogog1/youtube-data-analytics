{
 "cells": [
  {
   "cell_type": "code",
   "execution_count": 66,
   "id": "6dadd68b-bdfc-47c0-b56e-2836a82272c2",
   "metadata": {},
   "outputs": [],
   "source": [
    "from googleapiclient.discovery import build\n",
    "import pandas as pd\n",
    "from dateutil import parser\n",
    "from IPython.display import JSON\n",
    "\n",
    "import seaborn as sns\n",
    "import matplotlib.pyplot as plt\n",
    "import matplotlib.ticker as ticker\n",
    "\n",
    "api_key = \"HIDDEN\"\n",
    "\n",
    "channel_ids = ['UCX6OQ3DkcsbYNE6H8uQQuVA', ]\n",
    "\n",
    "api_service_name = \"youtube\"\n",
    "api_version = \"v3\"\n",
    "\n",
    "    # Get credentials and create an API client\n",
    "youtube = build(\n",
    "    api_service_name, api_version, developerKey=api_key)"
   ]
  },
  {
   "cell_type": "code",
   "execution_count": 24,
   "id": "5d0c4062-9a82-4ffe-9978-339f864458b2",
   "metadata": {},
   "outputs": [],
   "source": [
    "def get_channel_stats(youtube, channel_ids):\n",
    "    \n",
    "    all_data = []\n",
    "    \n",
    "    request = youtube.channels().list(\n",
    "        part=\"snippet,contentDetails,statistics\",\n",
    "        id=\",\".join(channel_ids)\n",
    "    )\n",
    "    response = request.execute()\n",
    "\n",
    "    #loop through items\n",
    "    for item in response['items']:\n",
    "        data = {'channelName':item['snippet']['title'],\n",
    "                'subscribers':item['statistics']['subscriberCount'],\n",
    "                'views':item['statistics']['viewCount'],\n",
    "                'totalVideos':item['statistics']['videoCount'],\n",
    "                'playlistId':item['contentDetails']['relatedPlaylists']['uploads']\n",
    "        }\n",
    "\n",
    "        all_data.append(data)\n",
    "    return(pd.DataFrame(all_data))"
   ]
  },
  {
   "cell_type": "code",
   "execution_count": 25,
   "id": "ff8b73cd-178c-4ad6-b715-9f678de8f1b5",
   "metadata": {},
   "outputs": [],
   "source": [
    "channel_stats = get_channel_stats(youtube, channel_ids)"
   ]
  },
  {
   "cell_type": "code",
   "execution_count": 26,
   "id": "501109ea-f8c9-4f2b-8775-4753a78b7340",
   "metadata": {},
   "outputs": [
    {
     "data": {
      "text/html": [
       "<div>\n",
       "<style scoped>\n",
       "    .dataframe tbody tr th:only-of-type {\n",
       "        vertical-align: middle;\n",
       "    }\n",
       "\n",
       "    .dataframe tbody tr th {\n",
       "        vertical-align: top;\n",
       "    }\n",
       "\n",
       "    .dataframe thead th {\n",
       "        text-align: right;\n",
       "    }\n",
       "</style>\n",
       "<table border=\"1\" class=\"dataframe\">\n",
       "  <thead>\n",
       "    <tr style=\"text-align: right;\">\n",
       "      <th></th>\n",
       "      <th>channelName</th>\n",
       "      <th>subscribers</th>\n",
       "      <th>views</th>\n",
       "      <th>totalVideos</th>\n",
       "      <th>playlistId</th>\n",
       "    </tr>\n",
       "  </thead>\n",
       "  <tbody>\n",
       "    <tr>\n",
       "      <th>0</th>\n",
       "      <td>MrBeast</td>\n",
       "      <td>95400000</td>\n",
       "      <td>15676418730</td>\n",
       "      <td>721</td>\n",
       "      <td>UUX6OQ3DkcsbYNE6H8uQQuVA</td>\n",
       "    </tr>\n",
       "  </tbody>\n",
       "</table>\n",
       "</div>"
      ],
      "text/plain": [
       "  channelName subscribers        views totalVideos                playlistId\n",
       "0     MrBeast    95400000  15676418730         721  UUX6OQ3DkcsbYNE6H8uQQuVA"
      ]
     },
     "execution_count": 26,
     "metadata": {},
     "output_type": "execute_result"
    }
   ],
   "source": [
    "channel_stats"
   ]
  },
  {
   "cell_type": "code",
   "execution_count": 27,
   "id": "6b068fa9-bcb8-4de0-b522-8c873411c762",
   "metadata": {},
   "outputs": [],
   "source": [
    "playlist_id = \"UUX6OQ3DkcsbYNE6H8uQQuVA\"\n",
    "\n",
    "def get_video_ids(youtube, playlist_id):\n",
    "    \n",
    "    video_ids = []\n",
    "\n",
    "    request = youtube.playlistItems().list(\n",
    "        part=\"snippet, contentDetails\",\n",
    "        playlistId=playlist_id, \n",
    "        maxResults=50\n",
    "    )\n",
    "    response = request.execute()\n",
    "\n",
    "    for item in response['items']:\n",
    "        video_ids.append(item['contentDetails']['videoId'])\n",
    "\n",
    "    next_page_token = response.get('nextPageToken')\n",
    "        \n",
    "    while next_page_token is not None:\n",
    "        request = youtube.playlistItems().list(\n",
    "                    part=\"contentDetails\",\n",
    "                    playlistId=playlist_id, \n",
    "                    maxResults=50, \n",
    "                    pageToken=next_page_token\n",
    "        )\n",
    "        response = request.execute()\n",
    "\n",
    "        for item in response['items']:\n",
    "            video_ids.append(item['contentDetails']['videoId'])\n",
    "        \n",
    "        next_page_token = response.get('nextPageToken')\n",
    "        \n",
    "    return video_ids"
   ]
  },
  {
   "cell_type": "code",
   "execution_count": 28,
   "id": "40930a65-9566-4bac-b93a-e0f57fc7f21e",
   "metadata": {},
   "outputs": [],
   "source": [
    "video_ids = get_video_ids(youtube, playlist_id)"
   ]
  },
  {
   "cell_type": "code",
   "execution_count": 29,
   "id": "3fa3ae85-1e67-40a5-9bab-2961b1ca56bc",
   "metadata": {},
   "outputs": [
    {
     "data": {
      "text/plain": [
       "721"
      ]
     },
     "execution_count": 29,
     "metadata": {},
     "output_type": "execute_result"
    }
   ],
   "source": [
    "len(video_ids)"
   ]
  },
  {
   "cell_type": "code",
   "execution_count": 59,
   "id": "8ef01a3a-9739-4e2c-831d-705335c50b88",
   "metadata": {},
   "outputs": [],
   "source": [
    "def get_video_details(youtube, video_ids):\n",
    "\n",
    "    all_video_info = []\n",
    "    \n",
    "    for i in range(0, len(video_ids), 50):\n",
    "        request = youtube.videos().list(\n",
    "            part=\"snippet,contentDetails,statistics\",\n",
    "            id=','.join(video_ids[i:i+50])\n",
    "        )\n",
    "        response = request.execute() \n",
    "\n",
    "        for video in response['items']:\n",
    "            stats_to_keep = {'snippet': ['channelTitle', 'title', 'description', 'tags'],\n",
    "                             'statistics': ['viewCount', 'likeCount', 'commentCount'],\n",
    "                             'contentDetails': ['duration', 'caption']\n",
    "                            }\n",
    "            video_info = {}\n",
    "            video_info['video_id'] = video['id']\n",
    "\n",
    "            for k in stats_to_keep.keys():\n",
    "                for v in stats_to_keep[k]:\n",
    "                    try:\n",
    "                        video_info[v] = video[k][v]\n",
    "                    except:\n",
    "                        video_info[v] = None\n",
    "\n",
    "            all_video_info.append(video_info)\n",
    "    \n",
    "    return pd.DataFrame(all_video_info)"
   ]
  },
  {
   "cell_type": "code",
   "execution_count": 60,
   "id": "c03ac1f6-438c-4e3d-9449-f5e31161f5f6",
   "metadata": {},
   "outputs": [
    {
     "data": {
      "text/html": [
       "<div>\n",
       "<style scoped>\n",
       "    .dataframe tbody tr th:only-of-type {\n",
       "        vertical-align: middle;\n",
       "    }\n",
       "\n",
       "    .dataframe tbody tr th {\n",
       "        vertical-align: top;\n",
       "    }\n",
       "\n",
       "    .dataframe thead th {\n",
       "        text-align: right;\n",
       "    }\n",
       "</style>\n",
       "<table border=\"1\" class=\"dataframe\">\n",
       "  <thead>\n",
       "    <tr style=\"text-align: right;\">\n",
       "      <th></th>\n",
       "      <th>video_id</th>\n",
       "      <th>channelTitle</th>\n",
       "      <th>title</th>\n",
       "      <th>description</th>\n",
       "      <th>tags</th>\n",
       "      <th>viewCount</th>\n",
       "      <th>likeCount</th>\n",
       "      <th>commentCount</th>\n",
       "      <th>duration</th>\n",
       "      <th>caption</th>\n",
       "    </tr>\n",
       "  </thead>\n",
       "  <tbody>\n",
       "    <tr>\n",
       "      <th>0</th>\n",
       "      <td>hD1YtmKXNb4</td>\n",
       "      <td>MrBeast</td>\n",
       "      <td>$10,000 Every Day You Survive Prison</td>\n",
       "      <td>SUBSCRIBE IN THE NEXT 7 DAYS FOR A CHANCE TO W...</td>\n",
       "      <td>None</td>\n",
       "      <td>54717915</td>\n",
       "      <td>2782132</td>\n",
       "      <td>136229</td>\n",
       "      <td>PT13M59S</td>\n",
       "      <td>false</td>\n",
       "    </tr>\n",
       "    <tr>\n",
       "      <th>1</th>\n",
       "      <td>LnlKwzc_TNA</td>\n",
       "      <td>MrBeast</td>\n",
       "      <td>Would You Swim With Sharks For $100,000?</td>\n",
       "      <td>Try Experian Boost to boost your credit scores...</td>\n",
       "      <td>None</td>\n",
       "      <td>57195854</td>\n",
       "      <td>2389138</td>\n",
       "      <td>97004</td>\n",
       "      <td>PT9M</td>\n",
       "      <td>false</td>\n",
       "    </tr>\n",
       "    <tr>\n",
       "      <th>2</th>\n",
       "      <td>3jS_yEK8qVI</td>\n",
       "      <td>MrBeast</td>\n",
       "      <td>World’s Most Dangerous Escape Room!</td>\n",
       "      <td>Buy my new chocolate bar: https://www.Feastabl...</td>\n",
       "      <td>None</td>\n",
       "      <td>91002415</td>\n",
       "      <td>3377761</td>\n",
       "      <td>139677</td>\n",
       "      <td>PT8M2S</td>\n",
       "      <td>false</td>\n",
       "    </tr>\n",
       "    <tr>\n",
       "      <th>3</th>\n",
       "      <td>00NgUctWoLQ</td>\n",
       "      <td>MrBeast</td>\n",
       "      <td>Extreme $1,000,000 Hide And Seek</td>\n",
       "      <td>I didn't expect that to happen at the end I wa...</td>\n",
       "      <td>None</td>\n",
       "      <td>64541694</td>\n",
       "      <td>3026304</td>\n",
       "      <td>136077</td>\n",
       "      <td>PT12M9S</td>\n",
       "      <td>true</td>\n",
       "    </tr>\n",
       "    <tr>\n",
       "      <th>4</th>\n",
       "      <td>x9TQ6culXIA</td>\n",
       "      <td>MrBeast</td>\n",
       "      <td>$1,000,000 Influencer Tournament!</td>\n",
       "      <td>That was so close at the end I can't believe t...</td>\n",
       "      <td>None</td>\n",
       "      <td>52150104</td>\n",
       "      <td>2707044</td>\n",
       "      <td>91580</td>\n",
       "      <td>PT12M5S</td>\n",
       "      <td>true</td>\n",
       "    </tr>\n",
       "    <tr>\n",
       "      <th>...</th>\n",
       "      <td>...</td>\n",
       "      <td>...</td>\n",
       "      <td>...</td>\n",
       "      <td>...</td>\n",
       "      <td>...</td>\n",
       "      <td>...</td>\n",
       "      <td>...</td>\n",
       "      <td>...</td>\n",
       "      <td>...</td>\n",
       "      <td>...</td>\n",
       "    </tr>\n",
       "    <tr>\n",
       "      <th>716</th>\n",
       "      <td>7qj3nuF9Dzw</td>\n",
       "      <td>MrBeast</td>\n",
       "      <td>Most Epic minecraft skin EVER  (Psy)</td>\n",
       "      <td>Psy in minecraft!!!   drop a like for psy's mo...</td>\n",
       "      <td>[psy, minecraft, epic, skin, most, ever]</td>\n",
       "      <td>488532</td>\n",
       "      <td>21043</td>\n",
       "      <td>2411</td>\n",
       "      <td>PT30S</td>\n",
       "      <td>false</td>\n",
       "    </tr>\n",
       "    <tr>\n",
       "      <th>717</th>\n",
       "      <td>Y74b7WlcEpk</td>\n",
       "      <td>MrBeast</td>\n",
       "      <td>More birds IN MINECRAFT!!</td>\n",
       "      <td>Basically what this mod does is adds more bird...</td>\n",
       "      <td>[birds, minecraft, in, more, must, see, epic]</td>\n",
       "      <td>586864</td>\n",
       "      <td>25047</td>\n",
       "      <td>2747</td>\n",
       "      <td>PT2M6S</td>\n",
       "      <td>false</td>\n",
       "    </tr>\n",
       "    <tr>\n",
       "      <th>718</th>\n",
       "      <td>Z8nEEdXTaX0</td>\n",
       "      <td>MrBeast</td>\n",
       "      <td>Boxy item mod Minecraft.  EPIC</td>\n",
       "      <td>At the begining i said i was mrbeast6000.... i...</td>\n",
       "      <td>[boxy, item, mod, minecraft, epic]</td>\n",
       "      <td>668811</td>\n",
       "      <td>29172</td>\n",
       "      <td>3353</td>\n",
       "      <td>PT1M30S</td>\n",
       "      <td>false</td>\n",
       "    </tr>\n",
       "    <tr>\n",
       "      <th>719</th>\n",
       "      <td>jP82d277Cc8</td>\n",
       "      <td>MrBeast</td>\n",
       "      <td>Harry Potter Mod In Minecraft! EPIC MUST SEE M...</td>\n",
       "      <td>One of the coolest mods i have ever seen\\n\\nMo...</td>\n",
       "      <td>[Harry Potter minecraft, minecraft, minecraft ...</td>\n",
       "      <td>2382771</td>\n",
       "      <td>None</td>\n",
       "      <td>6019</td>\n",
       "      <td>PT3M59S</td>\n",
       "      <td>false</td>\n",
       "    </tr>\n",
       "    <tr>\n",
       "      <th>720</th>\n",
       "      <td>2XVcLrB7B3Y</td>\n",
       "      <td>MrBeast</td>\n",
       "      <td>Worst Minecraft Saw Trap Ever???</td>\n",
       "      <td>This is the worst saw trap ever done in minecr...</td>\n",
       "      <td>[minecraft, saw trap, minecraft saw trap, wors...</td>\n",
       "      <td>11067637</td>\n",
       "      <td>544541</td>\n",
       "      <td>83490</td>\n",
       "      <td>PT2M37S</td>\n",
       "      <td>false</td>\n",
       "    </tr>\n",
       "  </tbody>\n",
       "</table>\n",
       "<p>721 rows × 10 columns</p>\n",
       "</div>"
      ],
      "text/plain": [
       "        video_id channelTitle  \\\n",
       "0    hD1YtmKXNb4      MrBeast   \n",
       "1    LnlKwzc_TNA      MrBeast   \n",
       "2    3jS_yEK8qVI      MrBeast   \n",
       "3    00NgUctWoLQ      MrBeast   \n",
       "4    x9TQ6culXIA      MrBeast   \n",
       "..           ...          ...   \n",
       "716  7qj3nuF9Dzw      MrBeast   \n",
       "717  Y74b7WlcEpk      MrBeast   \n",
       "718  Z8nEEdXTaX0      MrBeast   \n",
       "719  jP82d277Cc8      MrBeast   \n",
       "720  2XVcLrB7B3Y      MrBeast   \n",
       "\n",
       "                                                 title  \\\n",
       "0                 $10,000 Every Day You Survive Prison   \n",
       "1             Would You Swim With Sharks For $100,000?   \n",
       "2                  World’s Most Dangerous Escape Room!   \n",
       "3                     Extreme $1,000,000 Hide And Seek   \n",
       "4                    $1,000,000 Influencer Tournament!   \n",
       "..                                                 ...   \n",
       "716               Most Epic minecraft skin EVER  (Psy)   \n",
       "717                          More birds IN MINECRAFT!!   \n",
       "718                     Boxy item mod Minecraft.  EPIC   \n",
       "719  Harry Potter Mod In Minecraft! EPIC MUST SEE M...   \n",
       "720                   Worst Minecraft Saw Trap Ever???   \n",
       "\n",
       "                                           description  \\\n",
       "0    SUBSCRIBE IN THE NEXT 7 DAYS FOR A CHANCE TO W...   \n",
       "1    Try Experian Boost to boost your credit scores...   \n",
       "2    Buy my new chocolate bar: https://www.Feastabl...   \n",
       "3    I didn't expect that to happen at the end I wa...   \n",
       "4    That was so close at the end I can't believe t...   \n",
       "..                                                 ...   \n",
       "716  Psy in minecraft!!!   drop a like for psy's mo...   \n",
       "717  Basically what this mod does is adds more bird...   \n",
       "718  At the begining i said i was mrbeast6000.... i...   \n",
       "719  One of the coolest mods i have ever seen\\n\\nMo...   \n",
       "720  This is the worst saw trap ever done in minecr...   \n",
       "\n",
       "                                                  tags viewCount likeCount  \\\n",
       "0                                                 None  54717915   2782132   \n",
       "1                                                 None  57195854   2389138   \n",
       "2                                                 None  91002415   3377761   \n",
       "3                                                 None  64541694   3026304   \n",
       "4                                                 None  52150104   2707044   \n",
       "..                                                 ...       ...       ...   \n",
       "716           [psy, minecraft, epic, skin, most, ever]    488532     21043   \n",
       "717      [birds, minecraft, in, more, must, see, epic]    586864     25047   \n",
       "718                 [boxy, item, mod, minecraft, epic]    668811     29172   \n",
       "719  [Harry Potter minecraft, minecraft, minecraft ...   2382771      None   \n",
       "720  [minecraft, saw trap, minecraft saw trap, wors...  11067637    544541   \n",
       "\n",
       "    commentCount  duration caption  \n",
       "0         136229  PT13M59S   false  \n",
       "1          97004      PT9M   false  \n",
       "2         139677    PT8M2S   false  \n",
       "3         136077   PT12M9S    true  \n",
       "4          91580   PT12M5S    true  \n",
       "..           ...       ...     ...  \n",
       "716         2411     PT30S   false  \n",
       "717         2747    PT2M6S   false  \n",
       "718         3353   PT1M30S   false  \n",
       "719         6019   PT3M59S   false  \n",
       "720        83490   PT2M37S   false  \n",
       "\n",
       "[721 rows x 10 columns]"
      ]
     },
     "execution_count": 60,
     "metadata": {},
     "output_type": "execute_result"
    }
   ],
   "source": [
    "video_details_df = get_video_details(youtube, video_ids)\n",
    "video_details_df"
   ]
  },
  {
   "cell_type": "code",
   "execution_count": 61,
   "id": "4f35d8fc-9323-4f9a-b849-8e9434be3a84",
   "metadata": {},
   "outputs": [
    {
     "data": {
      "text/plain": [
       "video_id        False\n",
       "channelTitle    False\n",
       "title           False\n",
       "description     False\n",
       "tags             True\n",
       "viewCount       False\n",
       "likeCount        True\n",
       "commentCount     True\n",
       "duration        False\n",
       "caption         False\n",
       "dtype: bool"
      ]
     },
     "execution_count": 61,
     "metadata": {},
     "output_type": "execute_result"
    }
   ],
   "source": [
    "video_details_df.isnull().any()"
   ]
  },
  {
   "cell_type": "code",
   "execution_count": 62,
   "id": "23f004ff-03b6-422c-9593-533de0712527",
   "metadata": {},
   "outputs": [
    {
     "data": {
      "text/plain": [
       "video_id        object\n",
       "channelTitle    object\n",
       "title           object\n",
       "description     object\n",
       "tags            object\n",
       "viewCount       object\n",
       "likeCount       object\n",
       "commentCount    object\n",
       "duration        object\n",
       "caption         object\n",
       "dtype: object"
      ]
     },
     "execution_count": 62,
     "metadata": {},
     "output_type": "execute_result"
    }
   ],
   "source": [
    "video_details_df.dtypes"
   ]
  },
  {
   "cell_type": "code",
   "execution_count": 64,
   "id": "7cf22d0a-ed96-477f-8faa-7e11b73a2e03",
   "metadata": {},
   "outputs": [],
   "source": [
    "numeric_columns = ['viewCount', 'likeCount', 'commentCount']\n",
    "video_details_df[numeric_columns] = video_details_df[numeric_columns].apply(pd.to_numeric, errors='coerce',axis=1)"
   ]
  },
  {
   "cell_type": "code",
   "execution_count": 69,
   "id": "4f9229a4-d8e1-49f5-85ae-0f2f5994244d",
   "metadata": {},
   "outputs": [],
   "source": [
    "import isodate\n",
    "video_details_df['durationSecs'] = video_details_df['duration'].apply(lambda x: isodate.parse_duration(x))\n",
    "video_details_df['durationSecs'] = video_details_df['durationSecs'].astype('timedelta64[s]')"
   ]
  },
  {
   "cell_type": "code",
   "execution_count": 88,
   "id": "b11208b7-7adb-4e7f-9fe4-7eeffba2a36b",
   "metadata": {},
   "outputs": [],
   "source": [
    "video_details_df['tagCount'] = video_details_df['tags'].apply(lambda x: 0 if x is None else len(x))"
   ]
  },
  {
   "cell_type": "code",
   "execution_count": 77,
   "id": "efce1337-7acf-4995-9469-c639c103b7c8",
   "metadata": {},
   "outputs": [],
   "source": [
    "##Best performing videos"
   ]
  },
  {
   "cell_type": "code",
   "execution_count": 78,
   "id": "1caa939c-a053-4d11-b9d4-e5604f1bfffc",
   "metadata": {},
   "outputs": [
    {
     "data": {
      "image/png": "[encoded data removed]",
      "text/plain": [
       "<Figure size 432x288 with 1 Axes>"
      ]
     },
     "metadata": {
      "needs_background": "light"
     },
     "output_type": "display_data"
    }
   ],
   "source": [
    "ax = sns.barplot(x = 'title', y = 'viewCount', data = video_details_df.sort_values('viewCount', ascending=False)[0:9])\n",
    "plot = ax.set_xticklabels(ax.get_xticklabels(), rotation=90)\n",
    "ax.yaxis.set_major_formatter(ticker.FuncFormatter(lambda x, pos:'{:,.0f}'.format(x/1000000) + 'M'))"
   ]
  },
  {
   "cell_type": "code",
   "execution_count": 79,
   "id": "34b9dd55-cf1e-4d69-9c68-d8b38f7c70d4",
   "metadata": {},
   "outputs": [],
   "source": [
    "##Worst performing videos"
   ]
  },
  {
   "cell_type": "code",
   "execution_count": 81,
   "id": "b56665f9-8bab-4209-a8b1-fc1e1798bdc0",
   "metadata": {},
   "outputs": [
    {
     "data": {
      "image/png": "[encoded data removed]",
      "text/plain": [
       "<Figure size 432x288 with 1 Axes>"
      ]
     },
     "metadata": {
      "needs_background": "light"
     },
     "output_type": "display_data"
    }
   ],
   "source": [
    "ax = sns.barplot(x = 'title', y = 'viewCount', data = video_details_df.sort_values('viewCount', ascending=True)[0:9])\n",
    "plot = ax.set_xticklabels(ax.get_xticklabels(), rotation=90)\n",
    "ax.yaxis.set_major_formatter(ticker.FuncFormatter(lambda x, pos:'{:,.0f}'.format(x/1000) + 'K'))"
   ]
  },
  {
   "cell_type": "code",
   "execution_count": 100,
   "id": "5c0cb40a-fdbe-45ba-88fd-d10e30463aee",
   "metadata": {},
   "outputs": [],
   "source": [
    "##Video Duration vs Likes / Tag counts vs Views"
   ]
  },
  {
   "cell_type": "code",
   "execution_count": 98,
   "id": "a644a609-26a7-4a0c-821a-a3ce826da83e",
   "metadata": {},
   "outputs": [
    {
     "data": {
      "text/plain": [
       "<AxesSubplot:xlabel='tagCount', ylabel='viewCount'>"
      ]
     },
     "execution_count": 98,
     "metadata": {},
     "output_type": "execute_result"
    },
    {
     "data": {
      "image/png": "[encoded data removed]",
      "text/plain": [
       "<Figure size 432x288 with 2 Axes>"
      ]
     },
     "metadata": {
      "needs_background": "light"
     },
     "output_type": "display_data"
    }
   ],
   "source": [
    "fig, ax = plt.subplots(1,2)\n",
    "sns.scatterplot(data = video_details_df, x = 'durationSecs', y = 'likeCount', ax = ax[0])\n",
    "sns.scatterplot(data = video_details_df, x = 'tagCount', y = 'viewCount', ax = ax[1])"
   ]
  },
  {
   "cell_type": "code",
   "execution_count": 101,
   "id": "aa555aab-6c99-496a-b31f-dedb565d7000",
   "metadata": {},
   "outputs": [],
   "source": [
    "##Video duration dist"
   ]
  },
  {
   "cell_type": "code",
   "execution_count": 110,
   "id": "4e7ce492-c798-4189-bf6e-c337d3ad4594",
   "metadata": {},
   "outputs": [
    {
     "data": {
      "text/plain": [
       "<AxesSubplot:xlabel='durationSecs', ylabel='Count'>"
      ]
     },
     "execution_count": 110,
     "metadata": {},
     "output_type": "execute_result"
    },
    {
     "data": {
      "image/png": "[encoded data removed]",
      "text/plain": [
       "<Figure size 432x288 with 1 Axes>"
      ]
     },
     "metadata": {
      "needs_background": "light"
     },
     "output_type": "display_data"
    }
   ],
   "source": [
    "sns.histplot(data = video_details_df, x = 'durationSecs', bins=10)"
   ]
  },
  {
   "cell_type": "code",
   "execution_count": null,
   "id": "4f5a0116-4636-46bc-bfaa-fa49d47de5c8",
   "metadata": {},
   "outputs": [],
   "source": []
  }
 ],
 "metadata": {
  "kernelspec": {
   "display_name": "Python 3 (ipykernel)",
   "language": "python",
   "name": "python3"
  },
  "language_info": {
   "codemirror_mode": {
    "name": "ipython",
    "version": 3
   },
   "file_extension": ".py",
   "mimetype": "text/x-python",
   "name": "python",
   "nbconvert_exporter": "python",
   "pygments_lexer": "ipython3",
   "version": "3.9.7"
  }
 },
 "nbformat": 4,
 "nbformat_minor": 5
}
